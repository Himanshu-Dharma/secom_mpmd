{
 "cells": [
  {
   "cell_type": "code",
   "execution_count": 436,
   "id": "9d68a8b2",
   "metadata": {},
   "outputs": [],
   "source": [
    "import os\n",
    "import pandas as pd\n",
    "import csv \n",
    "import seaborn as sns\n",
    "from sklearn import metrics\n",
    "from sklearn.model_selection import train_test_split\n",
    "from sklearn.linear_model import LogisticRegression \n",
    "import numpy as np\n",
    "import matplotlib.pyplot as plt"
   ]
  },
  {
   "cell_type": "code",
   "execution_count": 443,
   "id": "be4ee533",
   "metadata": {
    "scrolled": true
   },
   "outputs": [],
   "source": [
    "# Secom Data \n",
    "secom_data = pd.read_csv(\"secom.data\", sep = \" \", header = None)\n",
    "\n",
    "#Secom Label Data\n",
    "secom_label = pd.read_csv(\"secom_labels.data\", sep = \" \", header = None)"
   ]
  },
  {
   "cell_type": "code",
   "execution_count": 448,
   "id": "3a1fd81c",
   "metadata": {},
   "outputs": [],
   "source": [
    "# Renaming secom dataset columns into feature names \n",
    "\n",
    "secom_data.columns = [\"feature\"+ str(i+1) for i in range(len(secom_data.columns))]"
   ]
  },
  {
   "cell_type": "code",
   "execution_count": 449,
   "id": "68e01447",
   "metadata": {},
   "outputs": [
    {
     "name": "stdout",
     "output_type": "stream",
     "text": [
      "Count of Null Values in Entire Dataset  41951\n"
     ]
    }
   ],
   "source": [
    "#Count of Null Values in Entire Dataset\n",
    "nullCount = secom_data.isnull().sum().sum()\n",
    "print(\"Count of Null Values in Entire Dataset \", nullCount)"
   ]
  },
  {
   "cell_type": "code",
   "execution_count": 450,
   "id": "e398142c",
   "metadata": {},
   "outputs": [
    {
     "data": {
      "text/html": [
       "<div>\n",
       "<style scoped>\n",
       "    .dataframe tbody tr th:only-of-type {\n",
       "        vertical-align: middle;\n",
       "    }\n",
       "\n",
       "    .dataframe tbody tr th {\n",
       "        vertical-align: top;\n",
       "    }\n",
       "\n",
       "    .dataframe thead th {\n",
       "        text-align: right;\n",
       "    }\n",
       "</style>\n",
       "<table border=\"1\" class=\"dataframe\">\n",
       "  <thead>\n",
       "    <tr style=\"text-align: right;\">\n",
       "      <th></th>\n",
       "      <th>feature1</th>\n",
       "      <th>feature2</th>\n",
       "      <th>feature3</th>\n",
       "      <th>feature4</th>\n",
       "      <th>feature5</th>\n",
       "      <th>feature6</th>\n",
       "      <th>feature7</th>\n",
       "      <th>feature8</th>\n",
       "      <th>feature9</th>\n",
       "      <th>feature10</th>\n",
       "      <th>...</th>\n",
       "      <th>feature581</th>\n",
       "      <th>feature582</th>\n",
       "      <th>feature583</th>\n",
       "      <th>feature584</th>\n",
       "      <th>feature585</th>\n",
       "      <th>feature586</th>\n",
       "      <th>feature587</th>\n",
       "      <th>feature588</th>\n",
       "      <th>feature589</th>\n",
       "      <th>feature590</th>\n",
       "    </tr>\n",
       "  </thead>\n",
       "  <tbody>\n",
       "    <tr>\n",
       "      <th>feature1</th>\n",
       "      <td>1.000000</td>\n",
       "      <td>-0.145071</td>\n",
       "      <td>0.004775</td>\n",
       "      <td>-0.007655</td>\n",
       "      <td>-0.011047</td>\n",
       "      <td>NaN</td>\n",
       "      <td>0.002281</td>\n",
       "      <td>0.031510</td>\n",
       "      <td>-0.052731</td>\n",
       "      <td>0.009052</td>\n",
       "      <td>...</td>\n",
       "      <td>-0.070137</td>\n",
       "      <td>-0.028380</td>\n",
       "      <td>0.000225</td>\n",
       "      <td>0.023469</td>\n",
       "      <td>0.019921</td>\n",
       "      <td>0.023605</td>\n",
       "      <td>0.018472</td>\n",
       "      <td>-0.025909</td>\n",
       "      <td>-0.028196</td>\n",
       "      <td>0.004177</td>\n",
       "    </tr>\n",
       "    <tr>\n",
       "      <th>feature2</th>\n",
       "      <td>-0.145071</td>\n",
       "      <td>1.000000</td>\n",
       "      <td>0.005802</td>\n",
       "      <td>-0.007603</td>\n",
       "      <td>-0.001641</td>\n",
       "      <td>NaN</td>\n",
       "      <td>-0.025702</td>\n",
       "      <td>-0.012084</td>\n",
       "      <td>0.031321</td>\n",
       "      <td>0.024015</td>\n",
       "      <td>...</td>\n",
       "      <td>0.073211</td>\n",
       "      <td>0.083463</td>\n",
       "      <td>0.043690</td>\n",
       "      <td>0.002905</td>\n",
       "      <td>-0.001264</td>\n",
       "      <td>0.002273</td>\n",
       "      <td>-0.009417</td>\n",
       "      <td>0.017290</td>\n",
       "      <td>0.010134</td>\n",
       "      <td>0.044834</td>\n",
       "    </tr>\n",
       "    <tr>\n",
       "      <th>feature3</th>\n",
       "      <td>0.004775</td>\n",
       "      <td>0.005802</td>\n",
       "      <td>1.000000</td>\n",
       "      <td>0.298935</td>\n",
       "      <td>0.095891</td>\n",
       "      <td>NaN</td>\n",
       "      <td>-0.136225</td>\n",
       "      <td>-0.273970</td>\n",
       "      <td>0.023609</td>\n",
       "      <td>0.016291</td>\n",
       "      <td>...</td>\n",
       "      <td>-0.018721</td>\n",
       "      <td>-0.010759</td>\n",
       "      <td>-0.006061</td>\n",
       "      <td>0.015711</td>\n",
       "      <td>0.018237</td>\n",
       "      <td>0.015765</td>\n",
       "      <td>-0.025548</td>\n",
       "      <td>-0.029479</td>\n",
       "      <td>-0.030943</td>\n",
       "      <td>-0.033226</td>\n",
       "    </tr>\n",
       "    <tr>\n",
       "      <th>feature4</th>\n",
       "      <td>-0.007655</td>\n",
       "      <td>-0.007603</td>\n",
       "      <td>0.298935</td>\n",
       "      <td>1.000000</td>\n",
       "      <td>-0.058483</td>\n",
       "      <td>NaN</td>\n",
       "      <td>-0.685835</td>\n",
       "      <td>0.138290</td>\n",
       "      <td>-0.103656</td>\n",
       "      <td>0.068998</td>\n",
       "      <td>...</td>\n",
       "      <td>-0.057051</td>\n",
       "      <td>-0.096619</td>\n",
       "      <td>0.009045</td>\n",
       "      <td>0.025461</td>\n",
       "      <td>0.024754</td>\n",
       "      <td>0.026043</td>\n",
       "      <td>0.034779</td>\n",
       "      <td>-0.039309</td>\n",
       "      <td>-0.033780</td>\n",
       "      <td>-0.081157</td>\n",
       "    </tr>\n",
       "    <tr>\n",
       "      <th>feature5</th>\n",
       "      <td>-0.011047</td>\n",
       "      <td>-0.001641</td>\n",
       "      <td>0.095891</td>\n",
       "      <td>-0.058483</td>\n",
       "      <td>1.000000</td>\n",
       "      <td>NaN</td>\n",
       "      <td>-0.074368</td>\n",
       "      <td>-0.916410</td>\n",
       "      <td>-0.026035</td>\n",
       "      <td>0.054619</td>\n",
       "      <td>...</td>\n",
       "      <td>-0.041290</td>\n",
       "      <td>0.088327</td>\n",
       "      <td>0.045361</td>\n",
       "      <td>-0.001301</td>\n",
       "      <td>-0.001598</td>\n",
       "      <td>-0.001617</td>\n",
       "      <td>-0.044016</td>\n",
       "      <td>-0.031145</td>\n",
       "      <td>-0.026204</td>\n",
       "      <td>0.051428</td>\n",
       "    </tr>\n",
       "    <tr>\n",
       "      <th>...</th>\n",
       "      <td>...</td>\n",
       "      <td>...</td>\n",
       "      <td>...</td>\n",
       "      <td>...</td>\n",
       "      <td>...</td>\n",
       "      <td>...</td>\n",
       "      <td>...</td>\n",
       "      <td>...</td>\n",
       "      <td>...</td>\n",
       "      <td>...</td>\n",
       "      <td>...</td>\n",
       "      <td>...</td>\n",
       "      <td>...</td>\n",
       "      <td>...</td>\n",
       "      <td>...</td>\n",
       "      <td>...</td>\n",
       "      <td>...</td>\n",
       "      <td>...</td>\n",
       "      <td>...</td>\n",
       "      <td>...</td>\n",
       "      <td>...</td>\n",
       "    </tr>\n",
       "    <tr>\n",
       "      <th>feature586</th>\n",
       "      <td>0.023605</td>\n",
       "      <td>0.002273</td>\n",
       "      <td>0.015765</td>\n",
       "      <td>0.026043</td>\n",
       "      <td>-0.001617</td>\n",
       "      <td>NaN</td>\n",
       "      <td>-0.039569</td>\n",
       "      <td>0.010345</td>\n",
       "      <td>0.017930</td>\n",
       "      <td>-0.036132</td>\n",
       "      <td>...</td>\n",
       "      <td>-0.000395</td>\n",
       "      <td>-0.000673</td>\n",
       "      <td>-0.197363</td>\n",
       "      <td>0.999890</td>\n",
       "      <td>0.995342</td>\n",
       "      <td>1.000000</td>\n",
       "      <td>0.002744</td>\n",
       "      <td>-0.002931</td>\n",
       "      <td>-0.002531</td>\n",
       "      <td>-0.003801</td>\n",
       "    </tr>\n",
       "    <tr>\n",
       "      <th>feature587</th>\n",
       "      <td>0.018472</td>\n",
       "      <td>-0.009417</td>\n",
       "      <td>-0.025548</td>\n",
       "      <td>0.034779</td>\n",
       "      <td>-0.044016</td>\n",
       "      <td>NaN</td>\n",
       "      <td>-0.041296</td>\n",
       "      <td>0.058171</td>\n",
       "      <td>0.010436</td>\n",
       "      <td>0.033759</td>\n",
       "      <td>...</td>\n",
       "      <td>0.249926</td>\n",
       "      <td>-0.475397</td>\n",
       "      <td>-0.016726</td>\n",
       "      <td>0.002257</td>\n",
       "      <td>0.001606</td>\n",
       "      <td>0.002744</td>\n",
       "      <td>1.000000</td>\n",
       "      <td>0.167913</td>\n",
       "      <td>0.164238</td>\n",
       "      <td>-0.486559</td>\n",
       "    </tr>\n",
       "    <tr>\n",
       "      <th>feature588</th>\n",
       "      <td>-0.025909</td>\n",
       "      <td>0.017290</td>\n",
       "      <td>-0.029479</td>\n",
       "      <td>-0.039309</td>\n",
       "      <td>-0.031145</td>\n",
       "      <td>NaN</td>\n",
       "      <td>0.034184</td>\n",
       "      <td>-0.021472</td>\n",
       "      <td>0.022853</td>\n",
       "      <td>0.059341</td>\n",
       "      <td>...</td>\n",
       "      <td>0.975470</td>\n",
       "      <td>0.396369</td>\n",
       "      <td>-0.024481</td>\n",
       "      <td>-0.002650</td>\n",
       "      <td>-0.002498</td>\n",
       "      <td>-0.002931</td>\n",
       "      <td>0.167913</td>\n",
       "      <td>1.000000</td>\n",
       "      <td>0.974276</td>\n",
       "      <td>0.390813</td>\n",
       "    </tr>\n",
       "    <tr>\n",
       "      <th>feature589</th>\n",
       "      <td>-0.028196</td>\n",
       "      <td>0.010134</td>\n",
       "      <td>-0.030943</td>\n",
       "      <td>-0.033780</td>\n",
       "      <td>-0.026204</td>\n",
       "      <td>NaN</td>\n",
       "      <td>0.032359</td>\n",
       "      <td>-0.020962</td>\n",
       "      <td>0.026261</td>\n",
       "      <td>0.060803</td>\n",
       "      <td>...</td>\n",
       "      <td>1.000000</td>\n",
       "      <td>0.379167</td>\n",
       "      <td>-0.020712</td>\n",
       "      <td>-0.002261</td>\n",
       "      <td>-0.001957</td>\n",
       "      <td>-0.002531</td>\n",
       "      <td>0.164238</td>\n",
       "      <td>0.974276</td>\n",
       "      <td>1.000000</td>\n",
       "      <td>0.389211</td>\n",
       "    </tr>\n",
       "    <tr>\n",
       "      <th>feature590</th>\n",
       "      <td>0.004177</td>\n",
       "      <td>0.044834</td>\n",
       "      <td>-0.033226</td>\n",
       "      <td>-0.081157</td>\n",
       "      <td>0.051428</td>\n",
       "      <td>NaN</td>\n",
       "      <td>0.044227</td>\n",
       "      <td>-0.107875</td>\n",
       "      <td>-0.022776</td>\n",
       "      <td>0.004882</td>\n",
       "      <td>...</td>\n",
       "      <td>0.379167</td>\n",
       "      <td>1.000000</td>\n",
       "      <td>0.041494</td>\n",
       "      <td>-0.003008</td>\n",
       "      <td>-0.003295</td>\n",
       "      <td>-0.003801</td>\n",
       "      <td>-0.486559</td>\n",
       "      <td>0.390813</td>\n",
       "      <td>0.389211</td>\n",
       "      <td>1.000000</td>\n",
       "    </tr>\n",
       "  </tbody>\n",
       "</table>\n",
       "<p>590 rows × 590 columns</p>\n",
       "</div>"
      ],
      "text/plain": [
       "            feature1  feature2  feature3  feature4  feature5  feature6  \\\n",
       "feature1    1.000000 -0.145071  0.004775 -0.007655 -0.011047       NaN   \n",
       "feature2   -0.145071  1.000000  0.005802 -0.007603 -0.001641       NaN   \n",
       "feature3    0.004775  0.005802  1.000000  0.298935  0.095891       NaN   \n",
       "feature4   -0.007655 -0.007603  0.298935  1.000000 -0.058483       NaN   \n",
       "feature5   -0.011047 -0.001641  0.095891 -0.058483  1.000000       NaN   \n",
       "...              ...       ...       ...       ...       ...       ...   \n",
       "feature586  0.023605  0.002273  0.015765  0.026043 -0.001617       NaN   \n",
       "feature587  0.018472 -0.009417 -0.025548  0.034779 -0.044016       NaN   \n",
       "feature588 -0.025909  0.017290 -0.029479 -0.039309 -0.031145       NaN   \n",
       "feature589 -0.028196  0.010134 -0.030943 -0.033780 -0.026204       NaN   \n",
       "feature590  0.004177  0.044834 -0.033226 -0.081157  0.051428       NaN   \n",
       "\n",
       "            feature7  feature8  feature9  feature10  ...  feature581  \\\n",
       "feature1    0.002281  0.031510 -0.052731   0.009052  ...   -0.070137   \n",
       "feature2   -0.025702 -0.012084  0.031321   0.024015  ...    0.073211   \n",
       "feature3   -0.136225 -0.273970  0.023609   0.016291  ...   -0.018721   \n",
       "feature4   -0.685835  0.138290 -0.103656   0.068998  ...   -0.057051   \n",
       "feature5   -0.074368 -0.916410 -0.026035   0.054619  ...   -0.041290   \n",
       "...              ...       ...       ...        ...  ...         ...   \n",
       "feature586 -0.039569  0.010345  0.017930  -0.036132  ...   -0.000395   \n",
       "feature587 -0.041296  0.058171  0.010436   0.033759  ...    0.249926   \n",
       "feature588  0.034184 -0.021472  0.022853   0.059341  ...    0.975470   \n",
       "feature589  0.032359 -0.020962  0.026261   0.060803  ...    1.000000   \n",
       "feature590  0.044227 -0.107875 -0.022776   0.004882  ...    0.379167   \n",
       "\n",
       "            feature582  feature583  feature584  feature585  feature586  \\\n",
       "feature1     -0.028380    0.000225    0.023469    0.019921    0.023605   \n",
       "feature2      0.083463    0.043690    0.002905   -0.001264    0.002273   \n",
       "feature3     -0.010759   -0.006061    0.015711    0.018237    0.015765   \n",
       "feature4     -0.096619    0.009045    0.025461    0.024754    0.026043   \n",
       "feature5      0.088327    0.045361   -0.001301   -0.001598   -0.001617   \n",
       "...                ...         ...         ...         ...         ...   \n",
       "feature586   -0.000673   -0.197363    0.999890    0.995342    1.000000   \n",
       "feature587   -0.475397   -0.016726    0.002257    0.001606    0.002744   \n",
       "feature588    0.396369   -0.024481   -0.002650   -0.002498   -0.002931   \n",
       "feature589    0.379167   -0.020712   -0.002261   -0.001957   -0.002531   \n",
       "feature590    1.000000    0.041494   -0.003008   -0.003295   -0.003801   \n",
       "\n",
       "            feature587  feature588  feature589  feature590  \n",
       "feature1      0.018472   -0.025909   -0.028196    0.004177  \n",
       "feature2     -0.009417    0.017290    0.010134    0.044834  \n",
       "feature3     -0.025548   -0.029479   -0.030943   -0.033226  \n",
       "feature4      0.034779   -0.039309   -0.033780   -0.081157  \n",
       "feature5     -0.044016   -0.031145   -0.026204    0.051428  \n",
       "...                ...         ...         ...         ...  \n",
       "feature586    0.002744   -0.002931   -0.002531   -0.003801  \n",
       "feature587    1.000000    0.167913    0.164238   -0.486559  \n",
       "feature588    0.167913    1.000000    0.974276    0.390813  \n",
       "feature589    0.164238    0.974276    1.000000    0.389211  \n",
       "feature590   -0.486559    0.390813    0.389211    1.000000  \n",
       "\n",
       "[590 rows x 590 columns]"
      ]
     },
     "execution_count": 450,
     "metadata": {},
     "output_type": "execute_result"
    }
   ],
   "source": [
    "# Correlation Matrix\n",
    "corr_df = secom_data.corr()\n",
    "corr_df\n",
    "#Remove 0.8 and higher corr values"
   ]
  },
  {
   "cell_type": "code",
   "execution_count": 451,
   "id": "2ed204ef",
   "metadata": {},
   "outputs": [
    {
     "name": "stdout",
     "output_type": "stream",
     "text": [
      "Total Datapoints in correaltion matrix  224340\n"
     ]
    }
   ],
   "source": [
    "# Total Datapoints on Correlation Dataset\n",
    "print(\"Total Datapoints in correaltion matrix \",corr_df.count().sum())"
   ]
  },
  {
   "cell_type": "code",
   "execution_count": 453,
   "id": "2038fc2a",
   "metadata": {},
   "outputs": [
    {
     "name": "stdout",
     "output_type": "stream",
     "text": [
      "Count of Highly Correlated datapoints ( >0.8, <-0.8) =   1346\n"
     ]
    }
   ],
   "source": [
    "# Correlations more than 0.8 and less than -0.8\n",
    "\n",
    "corr_df_outOfRange = corr_df[((corr_df >= 0.8) | (corr_df <= -0.8)) & (corr_df != 1.0)]\n",
    "\n",
    "print(f\"Count of Highly Correlated datapoints ( >0.8, <-0.8) =  \", corr_df_outOfRange.count().sum())"
   ]
  },
  {
   "cell_type": "code",
   "execution_count": 454,
   "id": "95683e9b",
   "metadata": {},
   "outputs": [
    {
     "data": {
      "text/plain": [
       "<AxesSubplot:>"
      ]
     },
     "execution_count": 454,
     "metadata": {},
     "output_type": "execute_result"
    },
    {
     "data": {
      "image/png": "[encoded data removed]",
      "text/plain": [
       "<Figure size 432x288 with 2 Axes>"
      ]
     },
     "metadata": {
      "needs_background": "light"
     },
     "output_type": "display_data"
    }
   ],
   "source": [
    "# Correlation Heatmap\n",
    "sns.heatmap(secom_data.corr(), cmap = \"BrBG\")"
   ]
  },
  {
   "cell_type": "code",
   "execution_count": 455,
   "id": "f8a0f70f",
   "metadata": {},
   "outputs": [
    {
     "data": {
      "text/html": [
       "<div>\n",
       "<style scoped>\n",
       "    .dataframe tbody tr th:only-of-type {\n",
       "        vertical-align: middle;\n",
       "    }\n",
       "\n",
       "    .dataframe tbody tr th {\n",
       "        vertical-align: top;\n",
       "    }\n",
       "\n",
       "    .dataframe thead th {\n",
       "        text-align: right;\n",
       "    }\n",
       "</style>\n",
       "<table border=\"1\" class=\"dataframe\">\n",
       "  <thead>\n",
       "    <tr style=\"text-align: right;\">\n",
       "      <th></th>\n",
       "      <th>feature1</th>\n",
       "      <th>feature2</th>\n",
       "      <th>feature3</th>\n",
       "      <th>feature4</th>\n",
       "      <th>feature5</th>\n",
       "      <th>feature6</th>\n",
       "      <th>feature7</th>\n",
       "      <th>feature8</th>\n",
       "      <th>feature9</th>\n",
       "      <th>feature10</th>\n",
       "      <th>...</th>\n",
       "      <th>feature581</th>\n",
       "      <th>feature582</th>\n",
       "      <th>feature583</th>\n",
       "      <th>feature584</th>\n",
       "      <th>feature585</th>\n",
       "      <th>feature586</th>\n",
       "      <th>feature587</th>\n",
       "      <th>feature588</th>\n",
       "      <th>feature589</th>\n",
       "      <th>feature590</th>\n",
       "    </tr>\n",
       "  </thead>\n",
       "  <tbody>\n",
       "    <tr>\n",
       "      <th>feature1</th>\n",
       "      <td>1.000000</td>\n",
       "      <td>-0.145071</td>\n",
       "      <td>0.004775</td>\n",
       "      <td>-0.007655</td>\n",
       "      <td>-0.011047</td>\n",
       "      <td>NaN</td>\n",
       "      <td>0.002281</td>\n",
       "      <td>0.031510</td>\n",
       "      <td>-0.052731</td>\n",
       "      <td>0.009052</td>\n",
       "      <td>...</td>\n",
       "      <td>-0.070137</td>\n",
       "      <td>-0.028380</td>\n",
       "      <td>0.000225</td>\n",
       "      <td>0.023469</td>\n",
       "      <td>0.019921</td>\n",
       "      <td>0.023605</td>\n",
       "      <td>0.018472</td>\n",
       "      <td>-0.025909</td>\n",
       "      <td>-0.028196</td>\n",
       "      <td>0.004177</td>\n",
       "    </tr>\n",
       "    <tr>\n",
       "      <th>feature2</th>\n",
       "      <td>-0.145071</td>\n",
       "      <td>1.000000</td>\n",
       "      <td>0.005802</td>\n",
       "      <td>-0.007603</td>\n",
       "      <td>-0.001641</td>\n",
       "      <td>NaN</td>\n",
       "      <td>-0.025702</td>\n",
       "      <td>-0.012084</td>\n",
       "      <td>0.031321</td>\n",
       "      <td>0.024015</td>\n",
       "      <td>...</td>\n",
       "      <td>0.073211</td>\n",
       "      <td>0.083463</td>\n",
       "      <td>0.043690</td>\n",
       "      <td>0.002905</td>\n",
       "      <td>-0.001264</td>\n",
       "      <td>0.002273</td>\n",
       "      <td>-0.009417</td>\n",
       "      <td>0.017290</td>\n",
       "      <td>0.010134</td>\n",
       "      <td>0.044834</td>\n",
       "    </tr>\n",
       "    <tr>\n",
       "      <th>feature3</th>\n",
       "      <td>0.004775</td>\n",
       "      <td>0.005802</td>\n",
       "      <td>1.000000</td>\n",
       "      <td>0.298935</td>\n",
       "      <td>0.095891</td>\n",
       "      <td>NaN</td>\n",
       "      <td>-0.136225</td>\n",
       "      <td>-0.273970</td>\n",
       "      <td>0.023609</td>\n",
       "      <td>0.016291</td>\n",
       "      <td>...</td>\n",
       "      <td>-0.018721</td>\n",
       "      <td>-0.010759</td>\n",
       "      <td>-0.006061</td>\n",
       "      <td>0.015711</td>\n",
       "      <td>0.018237</td>\n",
       "      <td>0.015765</td>\n",
       "      <td>-0.025548</td>\n",
       "      <td>-0.029479</td>\n",
       "      <td>-0.030943</td>\n",
       "      <td>-0.033226</td>\n",
       "    </tr>\n",
       "    <tr>\n",
       "      <th>feature4</th>\n",
       "      <td>-0.007655</td>\n",
       "      <td>-0.007603</td>\n",
       "      <td>0.298935</td>\n",
       "      <td>1.000000</td>\n",
       "      <td>-0.058483</td>\n",
       "      <td>NaN</td>\n",
       "      <td>-0.685835</td>\n",
       "      <td>0.138290</td>\n",
       "      <td>-0.103656</td>\n",
       "      <td>0.068998</td>\n",
       "      <td>...</td>\n",
       "      <td>-0.057051</td>\n",
       "      <td>-0.096619</td>\n",
       "      <td>0.009045</td>\n",
       "      <td>0.025461</td>\n",
       "      <td>0.024754</td>\n",
       "      <td>0.026043</td>\n",
       "      <td>0.034779</td>\n",
       "      <td>-0.039309</td>\n",
       "      <td>-0.033780</td>\n",
       "      <td>-0.081157</td>\n",
       "    </tr>\n",
       "    <tr>\n",
       "      <th>feature5</th>\n",
       "      <td>-0.011047</td>\n",
       "      <td>-0.001641</td>\n",
       "      <td>0.095891</td>\n",
       "      <td>-0.058483</td>\n",
       "      <td>1.000000</td>\n",
       "      <td>NaN</td>\n",
       "      <td>-0.074368</td>\n",
       "      <td>-0.916410</td>\n",
       "      <td>-0.026035</td>\n",
       "      <td>0.054619</td>\n",
       "      <td>...</td>\n",
       "      <td>-0.041290</td>\n",
       "      <td>0.088327</td>\n",
       "      <td>0.045361</td>\n",
       "      <td>-0.001301</td>\n",
       "      <td>-0.001598</td>\n",
       "      <td>-0.001617</td>\n",
       "      <td>-0.044016</td>\n",
       "      <td>-0.031145</td>\n",
       "      <td>-0.026204</td>\n",
       "      <td>0.051428</td>\n",
       "    </tr>\n",
       "    <tr>\n",
       "      <th>...</th>\n",
       "      <td>...</td>\n",
       "      <td>...</td>\n",
       "      <td>...</td>\n",
       "      <td>...</td>\n",
       "      <td>...</td>\n",
       "      <td>...</td>\n",
       "      <td>...</td>\n",
       "      <td>...</td>\n",
       "      <td>...</td>\n",
       "      <td>...</td>\n",
       "      <td>...</td>\n",
       "      <td>...</td>\n",
       "      <td>...</td>\n",
       "      <td>...</td>\n",
       "      <td>...</td>\n",
       "      <td>...</td>\n",
       "      <td>...</td>\n",
       "      <td>...</td>\n",
       "      <td>...</td>\n",
       "      <td>...</td>\n",
       "      <td>...</td>\n",
       "    </tr>\n",
       "    <tr>\n",
       "      <th>feature586</th>\n",
       "      <td>0.023605</td>\n",
       "      <td>0.002273</td>\n",
       "      <td>0.015765</td>\n",
       "      <td>0.026043</td>\n",
       "      <td>-0.001617</td>\n",
       "      <td>NaN</td>\n",
       "      <td>-0.039569</td>\n",
       "      <td>0.010345</td>\n",
       "      <td>0.017930</td>\n",
       "      <td>-0.036132</td>\n",
       "      <td>...</td>\n",
       "      <td>-0.000395</td>\n",
       "      <td>-0.000673</td>\n",
       "      <td>-0.197363</td>\n",
       "      <td>0.999890</td>\n",
       "      <td>0.995342</td>\n",
       "      <td>1.000000</td>\n",
       "      <td>0.002744</td>\n",
       "      <td>-0.002931</td>\n",
       "      <td>-0.002531</td>\n",
       "      <td>-0.003801</td>\n",
       "    </tr>\n",
       "    <tr>\n",
       "      <th>feature587</th>\n",
       "      <td>0.018472</td>\n",
       "      <td>-0.009417</td>\n",
       "      <td>-0.025548</td>\n",
       "      <td>0.034779</td>\n",
       "      <td>-0.044016</td>\n",
       "      <td>NaN</td>\n",
       "      <td>-0.041296</td>\n",
       "      <td>0.058171</td>\n",
       "      <td>0.010436</td>\n",
       "      <td>0.033759</td>\n",
       "      <td>...</td>\n",
       "      <td>0.249926</td>\n",
       "      <td>-0.475397</td>\n",
       "      <td>-0.016726</td>\n",
       "      <td>0.002257</td>\n",
       "      <td>0.001606</td>\n",
       "      <td>0.002744</td>\n",
       "      <td>1.000000</td>\n",
       "      <td>0.167913</td>\n",
       "      <td>0.164238</td>\n",
       "      <td>-0.486559</td>\n",
       "    </tr>\n",
       "    <tr>\n",
       "      <th>feature588</th>\n",
       "      <td>-0.025909</td>\n",
       "      <td>0.017290</td>\n",
       "      <td>-0.029479</td>\n",
       "      <td>-0.039309</td>\n",
       "      <td>-0.031145</td>\n",
       "      <td>NaN</td>\n",
       "      <td>0.034184</td>\n",
       "      <td>-0.021472</td>\n",
       "      <td>0.022853</td>\n",
       "      <td>0.059341</td>\n",
       "      <td>...</td>\n",
       "      <td>0.975470</td>\n",
       "      <td>0.396369</td>\n",
       "      <td>-0.024481</td>\n",
       "      <td>-0.002650</td>\n",
       "      <td>-0.002498</td>\n",
       "      <td>-0.002931</td>\n",
       "      <td>0.167913</td>\n",
       "      <td>1.000000</td>\n",
       "      <td>0.974276</td>\n",
       "      <td>0.390813</td>\n",
       "    </tr>\n",
       "    <tr>\n",
       "      <th>feature589</th>\n",
       "      <td>-0.028196</td>\n",
       "      <td>0.010134</td>\n",
       "      <td>-0.030943</td>\n",
       "      <td>-0.033780</td>\n",
       "      <td>-0.026204</td>\n",
       "      <td>NaN</td>\n",
       "      <td>0.032359</td>\n",
       "      <td>-0.020962</td>\n",
       "      <td>0.026261</td>\n",
       "      <td>0.060803</td>\n",
       "      <td>...</td>\n",
       "      <td>1.000000</td>\n",
       "      <td>0.379167</td>\n",
       "      <td>-0.020712</td>\n",
       "      <td>-0.002261</td>\n",
       "      <td>-0.001957</td>\n",
       "      <td>-0.002531</td>\n",
       "      <td>0.164238</td>\n",
       "      <td>0.974276</td>\n",
       "      <td>1.000000</td>\n",
       "      <td>0.389211</td>\n",
       "    </tr>\n",
       "    <tr>\n",
       "      <th>feature590</th>\n",
       "      <td>0.004177</td>\n",
       "      <td>0.044834</td>\n",
       "      <td>-0.033226</td>\n",
       "      <td>-0.081157</td>\n",
       "      <td>0.051428</td>\n",
       "      <td>NaN</td>\n",
       "      <td>0.044227</td>\n",
       "      <td>-0.107875</td>\n",
       "      <td>-0.022776</td>\n",
       "      <td>0.004882</td>\n",
       "      <td>...</td>\n",
       "      <td>0.379167</td>\n",
       "      <td>1.000000</td>\n",
       "      <td>0.041494</td>\n",
       "      <td>-0.003008</td>\n",
       "      <td>-0.003295</td>\n",
       "      <td>-0.003801</td>\n",
       "      <td>-0.486559</td>\n",
       "      <td>0.390813</td>\n",
       "      <td>0.389211</td>\n",
       "      <td>1.000000</td>\n",
       "    </tr>\n",
       "  </tbody>\n",
       "</table>\n",
       "<p>590 rows × 590 columns</p>\n",
       "</div>"
      ],
      "text/plain": [
       "            feature1  feature2  feature3  feature4  feature5  feature6  \\\n",
       "feature1    1.000000 -0.145071  0.004775 -0.007655 -0.011047       NaN   \n",
       "feature2   -0.145071  1.000000  0.005802 -0.007603 -0.001641       NaN   \n",
       "feature3    0.004775  0.005802  1.000000  0.298935  0.095891       NaN   \n",
       "feature4   -0.007655 -0.007603  0.298935  1.000000 -0.058483       NaN   \n",
       "feature5   -0.011047 -0.001641  0.095891 -0.058483  1.000000       NaN   \n",
       "...              ...       ...       ...       ...       ...       ...   \n",
       "feature586  0.023605  0.002273  0.015765  0.026043 -0.001617       NaN   \n",
       "feature587  0.018472 -0.009417 -0.025548  0.034779 -0.044016       NaN   \n",
       "feature588 -0.025909  0.017290 -0.029479 -0.039309 -0.031145       NaN   \n",
       "feature589 -0.028196  0.010134 -0.030943 -0.033780 -0.026204       NaN   \n",
       "feature590  0.004177  0.044834 -0.033226 -0.081157  0.051428       NaN   \n",
       "\n",
       "            feature7  feature8  feature9  feature10  ...  feature581  \\\n",
       "feature1    0.002281  0.031510 -0.052731   0.009052  ...   -0.070137   \n",
       "feature2   -0.025702 -0.012084  0.031321   0.024015  ...    0.073211   \n",
       "feature3   -0.136225 -0.273970  0.023609   0.016291  ...   -0.018721   \n",
       "feature4   -0.685835  0.138290 -0.103656   0.068998  ...   -0.057051   \n",
       "feature5   -0.074368 -0.916410 -0.026035   0.054619  ...   -0.041290   \n",
       "...              ...       ...       ...        ...  ...         ...   \n",
       "feature586 -0.039569  0.010345  0.017930  -0.036132  ...   -0.000395   \n",
       "feature587 -0.041296  0.058171  0.010436   0.033759  ...    0.249926   \n",
       "feature588  0.034184 -0.021472  0.022853   0.059341  ...    0.975470   \n",
       "feature589  0.032359 -0.020962  0.026261   0.060803  ...    1.000000   \n",
       "feature590  0.044227 -0.107875 -0.022776   0.004882  ...    0.379167   \n",
       "\n",
       "            feature582  feature583  feature584  feature585  feature586  \\\n",
       "feature1     -0.028380    0.000225    0.023469    0.019921    0.023605   \n",
       "feature2      0.083463    0.043690    0.002905   -0.001264    0.002273   \n",
       "feature3     -0.010759   -0.006061    0.015711    0.018237    0.015765   \n",
       "feature4     -0.096619    0.009045    0.025461    0.024754    0.026043   \n",
       "feature5      0.088327    0.045361   -0.001301   -0.001598   -0.001617   \n",
       "...                ...         ...         ...         ...         ...   \n",
       "feature586   -0.000673   -0.197363    0.999890    0.995342    1.000000   \n",
       "feature587   -0.475397   -0.016726    0.002257    0.001606    0.002744   \n",
       "feature588    0.396369   -0.024481   -0.002650   -0.002498   -0.002931   \n",
       "feature589    0.379167   -0.020712   -0.002261   -0.001957   -0.002531   \n",
       "feature590    1.000000    0.041494   -0.003008   -0.003295   -0.003801   \n",
       "\n",
       "            feature587  feature588  feature589  feature590  \n",
       "feature1      0.018472   -0.025909   -0.028196    0.004177  \n",
       "feature2     -0.009417    0.017290    0.010134    0.044834  \n",
       "feature3     -0.025548   -0.029479   -0.030943   -0.033226  \n",
       "feature4      0.034779   -0.039309   -0.033780   -0.081157  \n",
       "feature5     -0.044016   -0.031145   -0.026204    0.051428  \n",
       "...                ...         ...         ...         ...  \n",
       "feature586    0.002744   -0.002931   -0.002531   -0.003801  \n",
       "feature587    1.000000    0.167913    0.164238   -0.486559  \n",
       "feature588    0.167913    1.000000    0.974276    0.390813  \n",
       "feature589    0.164238    0.974276    1.000000    0.389211  \n",
       "feature590   -0.486559    0.390813    0.389211    1.000000  \n",
       "\n",
       "[590 rows x 590 columns]"
      ]
     },
     "execution_count": 455,
     "metadata": {},
     "output_type": "execute_result"
    }
   ],
   "source": [
    "# Filtered correlation within range of -0.8 to 0.8\n",
    "\n",
    "corr_filtered = corr_df[((corr_df < 0.8) | (corr_df > -0.8))]\n",
    "corr_filtered"
   ]
  },
  {
   "cell_type": "code",
   "execution_count": 456,
   "id": "d03246b0",
   "metadata": {},
   "outputs": [],
   "source": [
    "# Renaming the Secom Label Dataset\n",
    "\n",
    "secom_label.rename(columns = {0:\"feature1\", 1:\"feature2\"}, inplace = True)"
   ]
  },
  {
   "cell_type": "code",
   "execution_count": 457,
   "id": "a9e7fd3d",
   "metadata": {},
   "outputs": [
    {
     "data": {
      "text/html": [
       "<div>\n",
       "<style scoped>\n",
       "    .dataframe tbody tr th:only-of-type {\n",
       "        vertical-align: middle;\n",
       "    }\n",
       "\n",
       "    .dataframe tbody tr th {\n",
       "        vertical-align: top;\n",
       "    }\n",
       "\n",
       "    .dataframe thead th {\n",
       "        text-align: right;\n",
       "    }\n",
       "</style>\n",
       "<table border=\"1\" class=\"dataframe\">\n",
       "  <thead>\n",
       "    <tr style=\"text-align: right;\">\n",
       "      <th></th>\n",
       "      <th>Status</th>\n",
       "      <th>Count</th>\n",
       "    </tr>\n",
       "  </thead>\n",
       "  <tbody>\n",
       "    <tr>\n",
       "      <th>0</th>\n",
       "      <td>Pass</td>\n",
       "      <td>1463</td>\n",
       "    </tr>\n",
       "    <tr>\n",
       "      <th>1</th>\n",
       "      <td>Fail</td>\n",
       "      <td>104</td>\n",
       "    </tr>\n",
       "  </tbody>\n",
       "</table>\n",
       "</div>"
      ],
      "text/plain": [
       "  Status  Count\n",
       "0   Pass   1463\n",
       "1   Fail    104"
      ]
     },
     "execution_count": 457,
     "metadata": {},
     "output_type": "execute_result"
    }
   ],
   "source": [
    "# Distribution count of Pass/Fail Status\n",
    "\n",
    "true = secom_label[secom_label[\"feature1\"] == 1][\"feature1\"].count()\n",
    "false = secom_label[secom_label[\"feature1\"] == -1][\"feature1\"].count()\n",
    "\n",
    "freq = pd.DataFrame({\"Status\": [\"Pass\", \"Fail\"] , \"Count\": [false, true]})\n",
    "freq"
   ]
  },
  {
   "cell_type": "code",
   "execution_count": 180,
   "id": "6999bd5b",
   "metadata": {},
   "outputs": [
    {
     "data": {
      "text/plain": [
       "<AxesSubplot:xlabel='Status'>"
      ]
     },
     "execution_count": 180,
     "metadata": {},
     "output_type": "execute_result"
    },
    {
     "data": {
      "image/png": "[encoded data removed]",
      "text/plain": [
       "<Figure size 432x288 with 1 Axes>"
      ]
     },
     "metadata": {
      "needs_background": "light"
     },
     "output_type": "display_data"
    }
   ],
   "source": [
    "freq.plot.bar(x='Status', y='Count', rot = 0)"
   ]
  },
  {
   "cell_type": "code",
   "execution_count": 459,
   "id": "5aae9dc9",
   "metadata": {
    "scrolled": true
   },
   "outputs": [
    {
     "data": {
      "text/plain": [
       "<AxesSubplot:>"
      ]
     },
     "execution_count": 459,
     "metadata": {},
     "output_type": "execute_result"
    },
    {
     "data": {
      "image/png": "[encoded data removed]",
      "text/plain": [
       "<Figure size 432x288 with 1 Axes>"
      ]
     },
     "metadata": {
      "needs_background": "light"
     },
     "output_type": "display_data"
    }
   ],
   "source": [
    "# Histogram of Distribution of mean\n",
    "\n",
    "mean_hist = secom_data.mean()\n",
    "mean_hist.hist(bins = 15)"
   ]
  },
  {
   "cell_type": "code",
   "execution_count": 462,
   "id": "18ac55a1",
   "metadata": {},
   "outputs": [
    {
     "name": "stdout",
     "output_type": "stream",
     "text": [
      "Mean of Entire Dataset  87.20997875443057\n",
      "Standard deviation of entire Dataset  609.8220567563162\n",
      "Negative Outlier limit  -1742\n",
      "Positive Outlier limit  1916\n"
     ]
    }
   ],
   "source": [
    "mean_data = secom_data.mean()\n",
    "mean_df = pd.DataFrame(data = mean_data, index = None)\n",
    "\n",
    "# DataFrame of Means of each feature\n",
    "mean = secom_data.mean().mean()\n",
    "print(\"Mean of Entire Dataset \", mean)\n",
    "\n",
    "std = secom_data.mean().std()\n",
    "print(\"Standard deviation of entire Dataset \", std)\n",
    "\n",
    "#Outlier\n",
    "Neg_outlier = int(mean - 3*std)\n",
    "Pos_outlier = int(mean + 3*std)\n",
    "print(\"Negative Outlier limit \" , Neg_outlier)\n",
    "print(\"Positive Outlier limit \" , Pos_outlier)\n",
    "#Range = X+-3s"
   ]
  },
  {
   "cell_type": "code",
   "execution_count": 468,
   "id": "9584be4b",
   "metadata": {},
   "outputs": [
    {
     "name": "stdout",
     "output_type": "stream",
     "text": [
      "Count of Outliers 0    11\n",
      "dtype: int64\n"
     ]
    }
   ],
   "source": [
    "# Outlier Analysis\n",
    "\n",
    "outlier_count = mean_df[(mean_df > Pos_outlier) | (mean_df < Neg_outlier)]\n",
    "print(\"Count of Outliers\", outlier_count.count())"
   ]
  },
  {
   "cell_type": "code",
   "execution_count": 465,
   "id": "605113c0",
   "metadata": {},
   "outputs": [
    {
     "data": {
      "text/plain": [
       "count     590.000000\n",
       "mean       87.209979\n",
       "std       609.822057\n",
       "min     -5618.393610\n",
       "25%         0.001578\n",
       "50%         0.761510\n",
       "75%        10.135639\n",
       "max      8827.536865\n",
       "dtype: float64"
      ]
     },
     "execution_count": 465,
     "metadata": {},
     "output_type": "execute_result"
    }
   ],
   "source": [
    "# Statistical Table of Mean Dataset\n",
    "mean_data.describe()"
   ]
  },
  {
   "cell_type": "code",
   "execution_count": 466,
   "id": "68c825fc",
   "metadata": {},
   "outputs": [
    {
     "name": "stdout",
     "output_type": "stream",
     "text": [
      "Count of Datapoints within Outlier Limit  0    579\n",
      "dtype: int64\n"
     ]
    }
   ],
   "source": [
    "# Count of Datapoints within Outlier Limit\n",
    "main_df = mean_df[(mean_df < Pos_outlier) & (mean_df > Neg_outlier)]\n",
    "print(\"Count of Datapoints within Outlier Limit \", main_df.count())"
   ]
  },
  {
   "cell_type": "code",
   "execution_count": 470,
   "id": "ab008843",
   "metadata": {},
   "outputs": [
    {
     "data": {
      "text/plain": [
       "array([[<AxesSubplot:title={'center':'0'}>]], dtype=object)"
      ]
     },
     "execution_count": 470,
     "metadata": {},
     "output_type": "execute_result"
    },
    {
     "data": {
      "image/png": "[encoded data removed]",
      "text/plain": [
       "<Figure size 432x288 with 1 Axes>"
      ]
     },
     "metadata": {
      "needs_background": "light"
     },
     "output_type": "display_data"
    }
   ],
   "source": [
    "# DIstribution of Data without Outliers\n",
    "main_df.hist(bins = 15)"
   ]
  },
  {
   "cell_type": "code",
   "execution_count": 278,
   "id": "c30eaac3",
   "metadata": {
    "scrolled": true
   },
   "outputs": [
    {
     "data": {
      "text/plain": [
       "array([[<AxesSubplot:title={'center':'0'}>]], dtype=object)"
      ]
     },
     "execution_count": 278,
     "metadata": {},
     "output_type": "execute_result"
    },
    {
     "data": {
      "image/png": "[encoded data removed]",
      "text/plain": [
       "<Figure size 432x288 with 1 Axes>"
      ]
     },
     "metadata": {
      "needs_background": "light"
     },
     "output_type": "display_data"
    }
   ],
   "source": []
  },
  {
   "cell_type": "code",
   "execution_count": 475,
   "id": "ad9a75bd",
   "metadata": {},
   "outputs": [
    {
     "name": "stdout",
     "output_type": "stream",
     "text": [
      "Postive outlier limit Missing Value    796.655083\n",
      "dtype: float64\n",
      "Negative outlier limit Missing Value   -654.448304\n",
      "dtype: float64\n"
     ]
    }
   ],
   "source": [
    "# Null Values outlier limit\n",
    "\n",
    "secom_null = secom_data.isna().sum()\n",
    "secom_null_df = pd.DataFrame(data = secom_null, columns = [\"Missing Value\"])\n",
    "nullMean = secom_null_df.mean()\n",
    "nullStd = secom_null_df.std()\n",
    "pos1 = nullMean + 3*nullStd\n",
    "neg1 = nullMean - 3*nullStd\n",
    "print(\"Postive outlier limit\", pos1)\n",
    "print(\"Negative outlier limit\", neg1)"
   ]
  },
  {
   "cell_type": "code",
   "execution_count": 476,
   "id": "3333bace",
   "metadata": {},
   "outputs": [
    {
     "data": {
      "text/plain": [
       "array([[<AxesSubplot:title={'center':'0'}>]], dtype=object)"
      ]
     },
     "execution_count": 476,
     "metadata": {},
     "output_type": "execute_result"
    },
    {
     "data": {
      "image/png": "[encoded data removed]",
      "text/plain": [
       "<Figure size 432x288 with 1 Axes>"
      ]
     },
     "metadata": {
      "needs_background": "light"
     },
     "output_type": "display_data"
    }
   ],
   "source": [
    "# Distribution of Null Values\n",
    "null_value = secom_data.isna().sum()\n",
    "null_hist = pd.DataFrame(data= null_value)\n",
    "null_hist.hist(bins = 35)"
   ]
  },
  {
   "cell_type": "code",
   "execution_count": 477,
   "id": "4bf18570",
   "metadata": {},
   "outputs": [
    {
     "name": "stdout",
     "output_type": "stream",
     "text": [
      "Count of missing values outside outlier range  Missing Value    24\n",
      "dtype: int64\n"
     ]
    }
   ],
   "source": [
    "# Count of Missing values outside outlier limit\n",
    "null_df = secom_null_df[(secom_null_df > pos1) | (secom_null_df < neg1)]\n",
    "null_df.dropna()\n",
    "print(\"Count of missing values outside outlier range \", null_df.count())"
   ]
  },
  {
   "cell_type": "code",
   "execution_count": 351,
   "id": "88e4dc87",
   "metadata": {},
   "outputs": [],
   "source": [
    "# Time series Analysis, spliting timestamp\n",
    "\n",
    "df2[[\"date\",\"time\"]] = df2[1].str.split(\" \", expand = True)"
   ]
  },
  {
   "cell_type": "code",
   "execution_count": 379,
   "id": "0780a89d",
   "metadata": {},
   "outputs": [
    {
     "data": {
      "text/plain": [
       "Text(0.5, 1.0, 'Time-Series Analysis')"
      ]
     },
     "execution_count": 379,
     "metadata": {},
     "output_type": "execute_result"
    },
    {
     "data": {
      "image/png": "[encoded data removed]",
      "text/plain": [
       "<Figure size 432x288 with 1 Axes>"
      ]
     },
     "metadata": {
      "needs_background": "light"
     },
     "output_type": "display_data"
    }
   ],
   "source": [
    "plt.plot(df2[\"Status\"], marker = \"o\")\n",
    "plt.xlabel(\"Date\")\n",
    "plt.ylabel(\"Status\")\n",
    "plt.title(\"Time-Series Analysis\")"
   ]
  },
  {
   "cell_type": "code",
   "execution_count": 381,
   "id": "8ec6442f",
   "metadata": {},
   "outputs": [
    {
     "data": {
      "text/plain": [
       "Text(0.5, 1.0, 'Time-Series Analysis')"
      ]
     },
     "execution_count": 381,
     "metadata": {},
     "output_type": "execute_result"
    },
    {
     "data": {
      "image/png": "[encoded data removed]",
      "text/plain": [
       "<Figure size 432x288 with 1 Axes>"
      ]
     },
     "metadata": {
      "needs_background": "light"
     },
     "output_type": "display_data"
    }
   ],
   "source": [
    "plt.scatter(df2.index, df2[\"Status\"])\n",
    "plt.xlabel(\"Date\")\n",
    "plt.ylabel(\"Status\")\n",
    "plt.title(\"Time-Series Analysis\")"
   ]
  },
  {
   "cell_type": "code",
   "execution_count": null,
   "id": "4693b7e8",
   "metadata": {},
   "outputs": [],
   "source": []
  }
 ],
 "metadata": {
  "kernelspec": {
   "display_name": "Python 3 (ipykernel)",
   "language": "python",
   "name": "python3"
  },
  "language_info": {
   "codemirror_mode": {
    "name": "ipython",
    "version": 3
   },
   "file_extension": ".py",
   "mimetype": "text/x-python",
   "name": "python",
   "nbconvert_exporter": "python",
   "pygments_lexer": "ipython3",
   "version": "3.9.7"
  }
 },
 "nbformat": 4,
 "nbformat_minor": 5
}
